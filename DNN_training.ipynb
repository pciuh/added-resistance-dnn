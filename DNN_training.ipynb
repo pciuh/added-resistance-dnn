{
 "cells": [
  {
   "cell_type": "markdown",
   "id": "5f530a16-b3f1-4ea9-aa18-bd22f160180e",
   "metadata": {},
   "source": [
    "# Deep Learning Regression Notebook\n",
    "This notebook is written for defining and compiling a neural network using Keras' Sequential API. Model is defined by function `create_model` with signature:\n",
    "* `activ_fun` – The activation function used in the hidden layers (here ReLU is applied).\n",
    "* `units` – The number of neurons in the first hidden layer. Further layers are reduced in number.\n",
    "* `input_shape` – The shape of the input data.\n",
    "\n",
    "\n",
    "The model is designed for **regression tasks** and incorporates **regularization** and **dropout** to prevent overfitting."
   ]
  },
  {
   "cell_type": "markdown",
   "id": "b095c6dd-5837-4c7e-b42d-98af9dc872ff",
   "metadata": {},
   "source": [
    "## Model Architecture\n",
    "Model is built with hidden layers with first input layer. All layers are regularized to prevent overfitting, and after each layer the droput technique is applied to reduce overfitting as well.\n",
    "### 1. First Hidden Layer\n",
    "* A fully connected (Dense) layer with units neurons.\n",
    "* L2 regularization (L2(1e-3)) helps prevent overfitting.\n",
    "* Uses the activation function specified by activ_fun.\n",
    "* Defines input_shape (only needed for the first layer).\n",
    "\n",
    "### 2. Droput\n",
    "* Randomly drops 50% of neruons in the first layer and further 25% of neurons in hidden layers to reduce overfitting.\n",
    "\n",
    "### 3. Output layer\n",
    "* Output layer is build of a single neuron with a linear activation function. This is appropriate for regression problems, where the goal is to predict continuous values.\n",
    "\n",
    "## Model compilation\n",
    "Model is compiled with use of:\n",
    "* Optimizer: `adam` (Adaptive Moment Estimation) – a widely used optimizer in deep learning.\n",
    "* Loss Function: `mse` (Mean Squared Error), suitable for regression tasks.\n",
    "\n"
   ]
  },
  {
   "cell_type": "code",
   "execution_count": 1,
   "id": "6bc9aef7-ce42-40b0-8b97-084118cd9dca",
   "metadata": {},
   "outputs": [],
   "source": [
    "%matplotlib inline"
   ]
  },
  {
   "cell_type": "code",
   "execution_count": 2,
   "id": "3003191f-e0ac-47cb-8a41-c27e8dc40349",
   "metadata": {},
   "outputs": [
    {
     "name": "stderr",
     "output_type": "stream",
     "text": [
      "/Users/pciuh/Library/Mobile Documents/com~apple~CloudDocs/Wrk/DatAna/added-resistance-dnn/.venv/lib/python3.8/site-packages/urllib3/__init__.py:35: NotOpenSSLWarning: urllib3 v2 only supports OpenSSL 1.1.1+, currently the 'ssl' module is compiled with 'LibreSSL 2.8.3'. See: https://github.com/urllib3/urllib3/issues/3020\n",
      "  warnings.warn(\n"
     ]
    }
   ],
   "source": [
    "import os\n",
    "import pandas as pd\n",
    "import numpy as np\n",
    "import matplotlib.pyplot as plt\n",
    "\n",
    "from keras import regularizers\n",
    "from keras import models\n",
    "from keras import layers\n",
    "\n",
    "from sklearn.preprocessing import StandardScaler\n",
    "from sklearn.compose import make_column_transformer\n",
    "from sklearn.model_selection import GroupShuffleSplit\n",
    "from sklearn.metrics import r2_score\n",
    "from sklearn.utils import shuffle"
   ]
  },
  {
   "cell_type": "code",
   "execution_count": 3,
   "id": "3d81c30a-8004-4102-bb33-468037989639",
   "metadata": {},
   "outputs": [],
   "source": [
    "def input_scaler(X):\n",
    "    x_avg = X.mean()\n",
    "    x_std = X.std()\n",
    "    Xn = X - x_avg\n",
    "    Xn /= x_std\n",
    "    return (Xn,x_avg,x_std)"
   ]
  },
  {
   "cell_type": "code",
   "execution_count": 4,
   "id": "90352d0d-c14a-483e-a5b7-90a01e311727",
   "metadata": {},
   "outputs": [],
   "source": [
    "def create_model(activ_fun,units,input_shape):\n",
    "    model = models.Sequential([\n",
    "    #layers.BatchNormalization(),\n",
    "    layers.Dense(units//1,kernel_regularizer=regularizers.L2(1e-3), activation=activ_fun, input_shape=input_shape),\n",
    "    layers.Dropout(0.50),\n",
    "    layers.Dense(units//2,kernel_regularizer=regularizers.L2(1e-3), activation=activ_fun),\n",
    "    layers.Dropout(0.25),\n",
    "    layers.Dense(1,activation='linear')\n",
    "    ])\n",
    "    model.compile(optimizer='adam',loss='mse')\n",
    "    return model"
   ]
  },
  {
   "cell_type": "code",
   "execution_count": 5,
   "id": "64b4cf1d-3865-4850-9d04-904a82165ccb",
   "metadata": {},
   "outputs": [],
   "source": [
    "BaseDir = os.getcwd()\n",
    "InputDir = os.path.join(BaseDir,'input')\n",
    "\n",
    "FileName = 'kaw_all.ftr'\n",
    "ModelFileName = FileName[:-4]+'-model.h5'"
   ]
  },
  {
   "cell_type": "code",
   "execution_count": 6,
   "id": "555c8dac-b5ae-43d0-a52c-beec47a7932e",
   "metadata": {},
   "outputs": [],
   "source": [
    "EPOCHS     = 250\n",
    "BATCH_SIZE = 48\n",
    "RANDOM     = 20250125\n",
    "RANDOM     = 20250126"
   ]
  },
  {
   "cell_type": "code",
   "execution_count": 7,
   "id": "fbfbd795-0b55-4241-9e8d-5b0a10016fee",
   "metadata": {},
   "outputs": [
    {
     "data": {
      "text/html": [
       "<div>\n",
       "<style scoped>\n",
       "    .dataframe tbody tr th:only-of-type {\n",
       "        vertical-align: middle;\n",
       "    }\n",
       "\n",
       "    .dataframe tbody tr th {\n",
       "        vertical-align: top;\n",
       "    }\n",
       "\n",
       "    .dataframe thead th {\n",
       "        text-align: right;\n",
       "    }\n",
       "</style>\n",
       "<table border=\"1\" class=\"dataframe\">\n",
       "  <thead>\n",
       "    <tr style=\"text-align: right;\">\n",
       "      <th></th>\n",
       "      <th>CB</th>\n",
       "      <th>Fr</th>\n",
       "      <th>WaveDir</th>\n",
       "      <th>ldl</th>\n",
       "      <th>LEL</th>\n",
       "      <th>LRL</th>\n",
       "      <th>LB</th>\n",
       "      <th>BT</th>\n",
       "    </tr>\n",
       "  </thead>\n",
       "  <tbody>\n",
       "    <tr>\n",
       "      <th>count</th>\n",
       "      <td>1240.000000</td>\n",
       "      <td>1240.000000</td>\n",
       "      <td>1240.000000</td>\n",
       "      <td>1240.000000</td>\n",
       "      <td>1240.000000</td>\n",
       "      <td>1240.000000</td>\n",
       "      <td>1240.000000</td>\n",
       "      <td>1240.000000</td>\n",
       "    </tr>\n",
       "    <tr>\n",
       "      <th>mean</th>\n",
       "      <td>0.731312</td>\n",
       "      <td>0.165182</td>\n",
       "      <td>130.987903</td>\n",
       "      <td>0.908645</td>\n",
       "      <td>0.269132</td>\n",
       "      <td>0.198798</td>\n",
       "      <td>6.231346</td>\n",
       "      <td>3.865784</td>\n",
       "    </tr>\n",
       "    <tr>\n",
       "      <th>std</th>\n",
       "      <td>0.099299</td>\n",
       "      <td>0.050917</td>\n",
       "      <td>58.158899</td>\n",
       "      <td>0.550462</td>\n",
       "      <td>0.083499</td>\n",
       "      <td>0.067202</td>\n",
       "      <td>0.720862</td>\n",
       "      <td>1.411495</td>\n",
       "    </tr>\n",
       "    <tr>\n",
       "      <th>min</th>\n",
       "      <td>0.512784</td>\n",
       "      <td>0.085890</td>\n",
       "      <td>0.000000</td>\n",
       "      <td>0.150000</td>\n",
       "      <td>0.121862</td>\n",
       "      <td>0.061071</td>\n",
       "      <td>4.039475</td>\n",
       "      <td>2.105467</td>\n",
       "    </tr>\n",
       "    <tr>\n",
       "      <th>25%</th>\n",
       "      <td>0.642044</td>\n",
       "      <td>0.124304</td>\n",
       "      <td>90.000000</td>\n",
       "      <td>0.492117</td>\n",
       "      <td>0.200348</td>\n",
       "      <td>0.165237</td>\n",
       "      <td>5.617726</td>\n",
       "      <td>2.762417</td>\n",
       "    </tr>\n",
       "    <tr>\n",
       "      <th>50%</th>\n",
       "      <td>0.755578</td>\n",
       "      <td>0.159567</td>\n",
       "      <td>150.000000</td>\n",
       "      <td>0.800000</td>\n",
       "      <td>0.242746</td>\n",
       "      <td>0.207214</td>\n",
       "      <td>6.161419</td>\n",
       "      <td>3.501610</td>\n",
       "    </tr>\n",
       "    <tr>\n",
       "      <th>75%</th>\n",
       "      <td>0.820188</td>\n",
       "      <td>0.196646</td>\n",
       "      <td>180.000000</td>\n",
       "      <td>1.200000</td>\n",
       "      <td>0.337833</td>\n",
       "      <td>0.235268</td>\n",
       "      <td>6.800663</td>\n",
       "      <td>4.509172</td>\n",
       "    </tr>\n",
       "    <tr>\n",
       "      <th>max</th>\n",
       "      <td>0.894305</td>\n",
       "      <td>0.310231</td>\n",
       "      <td>180.000000</td>\n",
       "      <td>3.157025</td>\n",
       "      <td>0.650237</td>\n",
       "      <td>0.391973</td>\n",
       "      <td>8.362595</td>\n",
       "      <td>8.470690</td>\n",
       "    </tr>\n",
       "  </tbody>\n",
       "</table>\n",
       "</div>"
      ],
      "text/plain": [
       "                CB           Fr      WaveDir          ldl          LEL  \\\n",
       "count  1240.000000  1240.000000  1240.000000  1240.000000  1240.000000   \n",
       "mean      0.731312     0.165182   130.987903     0.908645     0.269132   \n",
       "std       0.099299     0.050917    58.158899     0.550462     0.083499   \n",
       "min       0.512784     0.085890     0.000000     0.150000     0.121862   \n",
       "25%       0.642044     0.124304    90.000000     0.492117     0.200348   \n",
       "50%       0.755578     0.159567   150.000000     0.800000     0.242746   \n",
       "75%       0.820188     0.196646   180.000000     1.200000     0.337833   \n",
       "max       0.894305     0.310231   180.000000     3.157025     0.650237   \n",
       "\n",
       "               LRL           LB           BT  \n",
       "count  1240.000000  1240.000000  1240.000000  \n",
       "mean      0.198798     6.231346     3.865784  \n",
       "std       0.067202     0.720862     1.411495  \n",
       "min       0.061071     4.039475     2.105467  \n",
       "25%       0.165237     5.617726     2.762417  \n",
       "50%       0.207214     6.161419     3.501610  \n",
       "75%       0.235268     6.800663     4.509172  \n",
       "max       0.391973     8.362595     8.470690  "
      ]
     },
     "metadata": {},
     "output_type": "display_data"
    },
    {
     "data": {
      "text/plain": [
       "count    1240.000000\n",
       "mean        0.704501\n",
       "std         0.599195\n",
       "min        -0.570690\n",
       "25%         0.180500\n",
       "50%         0.625000\n",
       "75%         1.053296\n",
       "max         2.759770\n",
       "Name: kaw, dtype: float64"
      ]
     },
     "metadata": {},
     "output_type": "display_data"
    }
   ],
   "source": [
    "df = pd.read_feather(os.path.join(InputDir,FileName))\n",
    "\n",
    "df['LEL'] = df['LE']/df['L']\n",
    "df['LRL'] = df['LR']/df['L']\n",
    "df['LB']  = df['L']/df['B']\n",
    "df['BT']  = df['B']/df['Tm']\n",
    "\n",
    "X = df.drop(['L','B','Tm','Ta','Tf','LE','LR','kyy'],axis=1).copy()\n",
    "y = X.pop('kaw')\n",
    "\n",
    "display(X.describe())\n",
    "display(y.describe())"
   ]
  },
  {
   "cell_type": "code",
   "execution_count": 8,
   "id": "121e48a3-4fd6-4378-a256-619da32541b4",
   "metadata": {},
   "outputs": [
    {
     "name": "stdout",
     "output_type": "stream",
     "text": [
      "(826, 8)\n",
      "(414, 8)\n",
      "Input shape: [8]\n"
     ]
    }
   ],
   "source": [
    "Xn,x_avg,x_std = input_scaler(X)\n",
    "\n",
    "x_scale = pd.concat([x_avg,x_std],axis=1)\n",
    "x_scale.columns = ['avg','std']\n",
    "x_scale.to_csv(os.path.join(InputDir,FileName[:-4]+'-scale.csv'),sep=';')\n",
    "\n",
    "X_train = Xn.sample(frac=.666,random_state=RANDOM)\n",
    "X_valid = Xn.drop(X_train.index)\n",
    "\n",
    "y_train = y[X_train.index]\n",
    "y_valid = y[X_valid.index]\n",
    "\n",
    "X_train,y_train = shuffle(X_train,random_state=RANDOM),shuffle(y_train,random_state=RANDOM)\n",
    "X_valid,y_valid = shuffle(X_valid,random_state=RANDOM),shuffle(y_valid,random_state=RANDOM)\n",
    "\n",
    "print(X_train.shape)\n",
    "print(X_valid.shape)\n",
    "\n",
    "input_shape = [X_train.shape[1]]\n",
    "print('Input shape: {}'.format(input_shape))"
   ]
  },
  {
   "cell_type": "code",
   "execution_count": 9,
   "id": "b454cfbc-6488-47b5-9c86-56d72b6c023a",
   "metadata": {},
   "outputs": [
    {
     "name": "stdout",
     "output_type": "stream",
     "text": [
      "\n",
      "\n",
      "Model Summary:\n",
      "\n",
      "Model: \"sequential\"\n",
      "_________________________________________________________________\n",
      " Layer (type)                Output Shape              Param #   \n",
      "=================================================================\n",
      " dense (Dense)               (None, 320)               2880      \n",
      "                                                                 \n",
      " dropout (Dropout)           (None, 320)               0         \n",
      "                                                                 \n",
      " dense_1 (Dense)             (None, 160)               51360     \n",
      "                                                                 \n",
      " dropout_1 (Dropout)         (None, 160)               0         \n",
      "                                                                 \n",
      " dense_2 (Dense)             (None, 1)                 161       \n",
      "                                                                 \n",
      "=================================================================\n",
      "Total params: 54401 (212.50 KB)\n",
      "Trainable params: 54401 (212.50 KB)\n",
      "Non-trainable params: 0 (0.00 Byte)\n",
      "_________________________________________________________________\n"
     ]
    }
   ],
   "source": [
    "model = create_model('relu',320,input_shape)\n",
    "\n",
    "history = model.fit(\n",
    "    X_train, y_train,\n",
    "    validation_data=(X_valid, y_valid),\n",
    "    batch_size=BATCH_SIZE,\n",
    "    epochs=EPOCHS,\n",
    "    shuffle=True,\n",
    "    verbose=False,\n",
    ")\n",
    "\n",
    "model.summary()"
   ]
  },
  {
   "cell_type": "code",
   "execution_count": 10,
   "id": "373c57f7-7214-4518-870b-cda3e8f3ac82",
   "metadata": {},
   "outputs": [
    {
     "data": {
      "text/html": [
       "<div>\n",
       "<style scoped>\n",
       "    .dataframe tbody tr th:only-of-type {\n",
       "        vertical-align: middle;\n",
       "    }\n",
       "\n",
       "    .dataframe tbody tr th {\n",
       "        vertical-align: top;\n",
       "    }\n",
       "\n",
       "    .dataframe thead th {\n",
       "        text-align: right;\n",
       "    }\n",
       "</style>\n",
       "<table border=\"1\" class=\"dataframe\">\n",
       "  <thead>\n",
       "    <tr style=\"text-align: right;\">\n",
       "      <th></th>\n",
       "      <th>loss</th>\n",
       "      <th>val_loss</th>\n",
       "    </tr>\n",
       "  </thead>\n",
       "  <tbody>\n",
       "    <tr>\n",
       "      <th>247</th>\n",
       "      <td>0.067235</td>\n",
       "      <td>0.086040</td>\n",
       "    </tr>\n",
       "    <tr>\n",
       "      <th>248</th>\n",
       "      <td>0.070659</td>\n",
       "      <td>0.082705</td>\n",
       "    </tr>\n",
       "    <tr>\n",
       "      <th>249</th>\n",
       "      <td>0.068570</td>\n",
       "      <td>0.083106</td>\n",
       "    </tr>\n",
       "  </tbody>\n",
       "</table>\n",
       "</div>"
      ],
      "text/plain": [
       "         loss  val_loss\n",
       "247  0.067235  0.086040\n",
       "248  0.070659  0.082705\n",
       "249  0.068570  0.083106"
      ]
     },
     "metadata": {},
     "output_type": "display_data"
    },
    {
     "name": "stdout",
     "output_type": "stream",
     "text": [
      "13/13 [==============================] - 0s 372us/step\n",
      "Minimum Validation Loss: 0.0807\n",
      "R2:0.79\n"
     ]
    },
    {
     "data": {
      "image/png": "[encoded data removed]",
      "text/plain": [
       "<Figure size 640x480 with 1 Axes>"
      ]
     },
     "metadata": {},
     "output_type": "display_data"
    }
   ],
   "source": [
    "hdf = pd.DataFrame(history.history)\n",
    "\n",
    "display(hdf.tail(3))\n",
    "fig,ax = plt.subplots()\n",
    "ax.plot(hdf.loc[15:, ['loss', 'val_loss']])\n",
    "ax.set_xlabel('Epochs')\n",
    "ax.set_ylabel('Loss')\n",
    "\n",
    "y_pred = model.predict(X_valid)\n",
    "\n",
    "print('Minimum Validation Loss: {:0.4f}'.format(hdf['val_loss'].min()))\n",
    "print('R2:%.2f'%(r2_score(y_pred,y_valid)))"
   ]
  },
  {
   "cell_type": "code",
   "execution_count": 11,
   "id": "d7198043-5d02-4709-98eb-a9a71ef9d769",
   "metadata": {},
   "outputs": [
    {
     "data": {
      "image/png": "[encoded data removed]",
      "text/plain": [
       "<Figure size 640x480 with 1 Axes>"
      ]
     },
     "metadata": {},
     "output_type": "display_data"
    }
   ],
   "source": [
    "fig,ax = plt.subplots()\n",
    "ax.scatter(y_valid,y_pred)\n",
    "ax.plot([min(y_valid),max(y_valid)],[min(y_valid),max(y_valid)],'--r')\n",
    "ax.set_xlabel('Validation')\n",
    "ax.set_ylabel('Prediction')\n",
    "ax.set_aspect(1)"
   ]
  },
  {
   "cell_type": "code",
   "execution_count": 12,
   "id": "1c0e69ee-ea5d-458b-8e63-32c0c06fbf30",
   "metadata": {},
   "outputs": [
    {
     "data": {
      "text/plain": [
       "Text(0.5, 0, 'Residues')"
      ]
     },
     "execution_count": 12,
     "metadata": {},
     "output_type": "execute_result"
    },
    {
     "data": {
      "image/png": "[encoded data removed]",
      "text/plain": [
       "<Figure size 640x480 with 1 Axes>"
      ]
     },
     "metadata": {},
     "output_type": "display_data"
    }
   ],
   "source": [
    "res = y_valid-y_pred[:,0]\n",
    "bins = np.histogram_bin_edges(res, bins='scott')\n",
    "\n",
    "fig,ax = plt.subplots()\n",
    "ax.hist(res,bins=bins,density=True)\n",
    "ax.set_xlabel('Residues')"
   ]
  }
 ],
 "metadata": {
  "kernelspec": {
   "display_name": "Python 3 (ipykernel)",
   "language": "python",
   "name": "python3"
  },
  "language_info": {
   "codemirror_mode": {
    "name": "ipython",
    "version": 3
   },
   "file_extension": ".py",
   "mimetype": "text/x-python",
   "name": "python",
   "nbconvert_exporter": "python",
   "pygments_lexer": "ipython3",
   "version": "3.8.2"
  }
 },
 "nbformat": 4,
 "nbformat_minor": 5
}
