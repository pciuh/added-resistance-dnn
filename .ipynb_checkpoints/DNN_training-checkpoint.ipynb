{
 "cells": [
  {
   "cell_type": "markdown",
   "id": "5f530a16-b3f1-4ea9-aa18-bd22f160180e",
   "metadata": {},
   "source": [
    "# Deep Learning Regression Notebook\n",
    "This notebook is written for defining and compiling a neural network using Keras' Sequential API. Model is defined by function `create_model` with signature:\n",
    "* `activ_fun` – The activation function used in the hidden layers (here ReLU is applied).\n",
    "* `units` – The number of neurons in the first hidden layer. Further layers are reduced in number.\n",
    "* `input_shape` – The shape of the input data.\n",
    "\n",
    "\n",
    "The model is designed for **regression tasks** and incorporates **regularization** and **dropout** to prevent overfitting."
   ]
  },
  {
   "cell_type": "markdown",
   "id": "b095c6dd-5837-4c7e-b42d-98af9dc872ff",
   "metadata": {},
   "source": [
    "## Model Architecture\n",
    "Model is built with hidden layers with first input layer. All layers are regularized to prevent overfitting, and after each layer the droput technique is applied to reduce overfitting as well.\n",
    "### 1. First Hidden Layer\n",
    "* A fully connected (Dense) layer with units neurons.\n",
    "* L2 regularization (L2(1e-3)) helps prevent overfitting.\n",
    "* Uses the activation function specified by activ_fun.\n",
    "* Defines input_shape (only needed for the first layer).\n",
    "\n",
    "### 2. Droput\n",
    "* Randomly drops 50% of neruons in the first layer and further 25% of neurons in hidden layers to reduce overfitting.\n",
    "\n",
    "### 3. Output layer\n",
    "* Output layer is build of a single neuron with a linear activation function. This is appropriate for regression problems, where the goal is to predict continuous values.\n",
    "\n",
    "## Model compilation\n",
    "Model is compiled with use of:\n",
    "* Optimizer: `adam` (Adaptive Moment Estimation) – a widely used optimizer in deep learning.\n",
    "* Loss Function: `mse` (Mean Squared Error), suitable for regression tasks.\n",
    "\n"
   ]
  },
  {
   "cell_type": "code",
   "execution_count": null,
   "id": "d7d2f2c9-8b21-41ef-a093-352c10350024",
   "metadata": {},
   "outputs": [],
   "source": []
  }
 ],
 "metadata": {
  "kernelspec": {
   "display_name": "Python 3 (ipykernel)",
   "language": "python",
   "name": "python3"
  },
  "language_info": {
   "codemirror_mode": {
    "name": "ipython",
    "version": 3
   },
   "file_extension": ".py",
   "mimetype": "text/x-python",
   "name": "python",
   "nbconvert_exporter": "python",
   "pygments_lexer": "ipython3",
   "version": "3.8.2"
  }
 },
 "nbformat": 4,
 "nbformat_minor": 5
}
