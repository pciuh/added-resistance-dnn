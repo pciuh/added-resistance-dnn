{
 "cells": [
  {
   "cell_type": "markdown",
   "id": "210a09a2",
   "metadata": {},
   "source": [
    "# Deep Learning Prediction Notebook\n",
    "This notebook loads a pre-trained Keras model, applies scaling, and makes predictions on input data."
   ]
  },
  {
   "cell_type": "code",
   "execution_count": 1,
   "id": "487b9265-b5d3-4027-b61f-e97734454de5",
   "metadata": {},
   "outputs": [],
   "source": [
    "%matplotlib inline"
   ]
  },
  {
   "cell_type": "markdown",
   "id": "f52736ba",
   "metadata": {},
   "source": [
    "## Import Required Libraries"
   ]
  },
  {
   "cell_type": "code",
   "execution_count": null,
   "id": "406c89a6",
   "metadata": {},
   "outputs": [],
   "source": [
    "import os\n",
    "import pandas as pd\n",
    "import numpy as np\n",
    "import matplotlib.pyplot as plt\n",
    "from keras.models import load_model"
   ]
  },
  {
   "cell_type": "markdown",
   "id": "8ac95cd4",
   "metadata": {},
   "source": [
    "## Define Paths for Model and Data\n",
    "We set up paths for the trained model and related files."
   ]
  },
  {
   "cell_type": "code",
   "execution_count": null,
   "id": "3031af0a",
   "metadata": {},
   "outputs": [],
   "source": [
    "BaseDir = os.getcwd()\n",
    "InputDir = os.path.join(BaseDir, 'model')\n",
    "ModelFileName = os.path.join(InputDir, 'kaw_all-model.h5')\n",
    "ScaleFileName = os.path.join(InputDir, 'kaw_all-scale.csv')"
   ]
  },
  {
   "cell_type": "markdown",
   "id": "c710a5f0",
   "metadata": {},
   "source": [
    "## Load the Pre-Trained Model\n",
    "We load the trained Keras model from the specified path and display its summary."
   ]
  },
  {
   "cell_type": "code",
   "execution_count": null,
   "id": "4805043d",
   "metadata": {},
   "outputs": [],
   "source": [
    "model = load_model(ModelFileName)\n",
    "#print(model.summary())"
   ]
  },
  {
   "cell_type": "markdown",
   "id": "36ddfe2c",
   "metadata": {},
   "source": [
    "## Load Scaling Parameters\n",
    "We load the scaling parameters from a CSV file, which will be used to preprocess input data."
   ]
  },
  {
   "cell_type": "code",
   "execution_count": null,
   "id": "b4da4015",
   "metadata": {},
   "outputs": [],
   "source": [
    "scale = pd.read_csv(ScaleFileName, sep=';', index_col=0)"
   ]
  },
  {
   "cell_type": "markdown",
   "id": "66798b70",
   "metadata": {},
   "source": [
    "## Load Input Data\n",
    "We load a CSV file containing raw input data for predictions."
   ]
  },
  {
   "cell_type": "code",
   "execution_count": 1,
   "id": "93e61085",
   "metadata": {},
   "outputs": [
    {
     "ename": "NameError",
     "evalue": "name 'pd' is not defined",
     "output_type": "error",
     "traceback": [
      "\u001b[0;31m---------------------------------------------------------------------------\u001b[0m",
      "\u001b[0;31mNameError\u001b[0m                                 Traceback (most recent call last)",
      "Cell \u001b[0;32mIn[1], line 1\u001b[0m\n\u001b[0;32m----> 1\u001b[0m dfa \u001b[38;5;241m=\u001b[39m \u001b[43mpd\u001b[49m\u001b[38;5;241m.\u001b[39mread_csv(os\u001b[38;5;241m.\u001b[39mpath\u001b[38;5;241m.\u001b[39mjoin(InputDir, \u001b[38;5;124m'\u001b[39m\u001b[38;5;124mRAW_article.csv\u001b[39m\u001b[38;5;124m'\u001b[39m), sep\u001b[38;5;241m=\u001b[39m\u001b[38;5;124m'\u001b[39m\u001b[38;5;124m;\u001b[39m\u001b[38;5;124m'\u001b[39m)\n\u001b[1;32m      2\u001b[0m display(dfa\u001b[38;5;241m.\u001b[39mhead(\u001b[38;5;241m3\u001b[39m))\n",
      "\u001b[0;31mNameError\u001b[0m: name 'pd' is not defined"
     ]
    }
   ],
   "source": [
    "dfa = pd.read_csv(os.path.join(InputDir, 'RAW_article.csv'), sep=';')\n",
    "display(dfa.head(3))"
   ]
  },
  {
   "cell_type": "code",
   "execution_count": null,
   "id": "637624a8-d256-4de9-ac72-bc9493d8b6bc",
   "metadata": {},
   "outputs": [],
   "source": []
  }
 ],
 "metadata": {
  "kernelspec": {
   "display_name": "Python 3 (ipykernel)",
   "language": "python",
   "name": "python3"
  },
  "language_info": {
   "codemirror_mode": {
    "name": "ipython",
    "version": 3
   },
   "file_extension": ".py",
   "mimetype": "text/x-python",
   "name": "python",
   "nbconvert_exporter": "python",
   "pygments_lexer": "ipython3",
   "version": "3.12.8"
  }
 },
 "nbformat": 4,
 "nbformat_minor": 5
}
