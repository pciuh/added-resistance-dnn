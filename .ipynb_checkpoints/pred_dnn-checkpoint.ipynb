{
 "cells": [
  {
   "cell_type": "markdown",
   "id": "210a09a2",
   "metadata": {},
   "source": [
    "# Deep Learning Prediction Notebook\n",
    "This notebook loads a pre-trained Keras model, applies scaling, and makes predictions on input data."
   ]
  },
  {
   "cell_type": "code",
   "execution_count": 1,
   "id": "487b9265-b5d3-4027-b61f-e97734454de5",
   "metadata": {},
   "outputs": [],
   "source": [
    "%matplotlib inline"
   ]
  },
  {
   "cell_type": "markdown",
   "id": "f52736ba",
   "metadata": {},
   "source": [
    "## Import Required Libraries"
   ]
  },
  {
   "cell_type": "code",
   "execution_count": 2,
   "id": "406c89a6",
   "metadata": {},
   "outputs": [],
   "source": [
    "import os\n",
    "import pandas as pd\n",
    "import numpy as np\n",
    "import matplotlib.pyplot as plt\n",
    "from keras.models import load_model"
   ]
  },
  {
   "cell_type": "markdown",
   "id": "8ac95cd4",
   "metadata": {},
   "source": [
    "## Define Paths for Model and Data\n",
    "We set up paths for the trained model and related files."
   ]
  },
  {
   "cell_type": "code",
   "execution_count": 3,
   "id": "3031af0a",
   "metadata": {},
   "outputs": [],
   "source": [
    "BaseDir = os.getcwd()\n",
    "InputDir = os.path.join(BaseDir, 'model')\n",
    "ModelFileName = os.path.join(InputDir, 'kaw_all-model.h5')\n",
    "ScaleFileName = os.path.join(InputDir, 'kaw_all-scale.csv')"
   ]
  },
  {
   "cell_type": "markdown",
   "id": "c710a5f0",
   "metadata": {},
   "source": [
    "## Load the Pre-Trained Model\n",
    "We load the trained Keras model from the specified path and display its summary."
   ]
  },
  {
   "cell_type": "code",
   "execution_count": 4,
   "id": "4805043d",
   "metadata": {},
   "outputs": [
    {
     "name": "stdout",
     "output_type": "stream",
     "text": [
      "Model: \"sequential\"\n",
      "_________________________________________________________________\n",
      " Layer (type)                Output Shape              Param #   \n",
      "=================================================================\n",
      " dense (Dense)               (None, 320)               2880      \n",
      "                                                                 \n",
      " dropout (Dropout)           (None, 320)               0         \n",
      "                                                                 \n",
      " dense_1 (Dense)             (None, 160)               51360     \n",
      "                                                                 \n",
      " dropout_1 (Dropout)         (None, 160)               0         \n",
      "                                                                 \n",
      " dense_2 (Dense)             (None, 1)                 161       \n",
      "                                                                 \n",
      "=================================================================\n",
      "Total params: 54401 (212.50 KB)\n",
      "Trainable params: 54401 (212.50 KB)\n",
      "Non-trainable params: 0 (0.00 Byte)\n",
      "_________________________________________________________________\n"
     ]
    },
    {
     "data": {
      "text/plain": [
       "None"
      ]
     },
     "metadata": {},
     "output_type": "display_data"
    }
   ],
   "source": [
    "model = load_model(ModelFileName)\n",
    "display(model.summary())"
   ]
  },
  {
   "cell_type": "markdown",
   "id": "36ddfe2c",
   "metadata": {},
   "source": [
    "## Load Scaling Parameters\n",
    "We load the scaling parameters from a CSV file, which will be used to preprocess input data."
   ]
  },
  {
   "cell_type": "code",
   "execution_count": 5,
   "id": "b4da4015",
   "metadata": {},
   "outputs": [],
   "source": [
    "scale = pd.read_csv(ScaleFileName, sep=';', index_col=0)"
   ]
  },
  {
   "cell_type": "markdown",
   "id": "66798b70",
   "metadata": {},
   "source": [
    "## Load Input Data\n",
    "We load a CSV file containing added resistance data extracted from article."
   ]
  },
  {
   "cell_type": "code",
   "execution_count": 6,
   "id": "93e61085",
   "metadata": {},
   "outputs": [
    {
     "data": {
      "text/html": [
       "<div>\n",
       "<style scoped>\n",
       "    .dataframe tbody tr th:only-of-type {\n",
       "        vertical-align: middle;\n",
       "    }\n",
       "\n",
       "    .dataframe tbody tr th {\n",
       "        vertical-align: top;\n",
       "    }\n",
       "\n",
       "    .dataframe thead th {\n",
       "        text-align: right;\n",
       "    }\n",
       "</style>\n",
       "<table border=\"1\" class=\"dataframe\">\n",
       "  <thead>\n",
       "    <tr style=\"text-align: right;\">\n",
       "      <th></th>\n",
       "      <th>lwdl</th>\n",
       "      <th>KAW</th>\n",
       "    </tr>\n",
       "  </thead>\n",
       "  <tbody>\n",
       "    <tr>\n",
       "      <th>0</th>\n",
       "      <td>1.045532</td>\n",
       "      <td>11.477208</td>\n",
       "    </tr>\n",
       "    <tr>\n",
       "      <th>1</th>\n",
       "      <td>1.146412</td>\n",
       "      <td>11.669534</td>\n",
       "    </tr>\n",
       "    <tr>\n",
       "      <th>2</th>\n",
       "      <td>1.247717</td>\n",
       "      <td>9.945483</td>\n",
       "    </tr>\n",
       "  </tbody>\n",
       "</table>\n",
       "</div>"
      ],
      "text/plain": [
       "       lwdl        KAW\n",
       "0  1.045532  11.477208\n",
       "1  1.146412  11.669534\n",
       "2  1.247717   9.945483"
      ]
     },
     "metadata": {},
     "output_type": "display_data"
    }
   ],
   "source": [
    "dfa = pd.read_csv(os.path.join(InputDir, 'RAW_article.csv'), sep=';')\n",
    "display(dfa.head(3))"
   ]
  },
  {
   "cell_type": "markdown",
   "id": "eeca0c94-94da-4f41-bd28-789bd66129d0",
   "metadata": {},
   "source": [
    "## Prediction input data\n",
    "Preparing tensor for prediction with features and furhter scaling for loaded DNN model."
   ]
  },
  {
   "cell_type": "code",
   "execution_count": 7,
   "id": "ac578518-7f5d-48af-a5db-29b09c89dc15",
   "metadata": {},
   "outputs": [
    {
     "name": "stdout",
     "output_type": "stream",
     "text": [
      "5/5 [==============================] - 0s 725us/step\n"
     ]
    }
   ],
   "source": [
    "\n",
    "# Number of wave lengths\n",
    "nldl = 131\n",
    "# Dimensionless wave length vector\n",
    "ldl = np.linspace(0.1,2.1,nldl)\n",
    "# Tensor of input features\n",
    "#####  CB,Fr,WaveDirection,lambda/L,LE/L,LR/L,L/B,B/T\n",
    "X_guess = np.repeat([0.651,0.261,180,0.2,0.3,0.1,7.14,2.98],len(ldl))\n",
    "X_guess = X_guess.reshape(-1,nldl).T\n",
    "X_guess[:,3] = ldl\n",
    "# Scaling features for input to DNN model\n",
    "Xn_guess = X_guess-scale['avg'].values\n",
    "Xn_guess /= scale['std'].values\n",
    "# Predicting with use of trained DNN model\n",
    "y_guess = model.predict(Xn_guess)"
   ]
  },
  {
   "cell_type": "markdown",
   "id": "ea600ec1-b61b-4021-a9e7-bdf3cc842b75",
   "metadata": {},
   "source": [
    "## Plotting results\n",
    "Comparing output from trained DNN with data from experiment and CFD simulation taken from article."
   ]
  },
  {
   "cell_type": "code",
   "execution_count": 8,
   "id": "4a7e878a-52b8-40ef-b95c-b5a1204bafd1",
   "metadata": {},
   "outputs": [
    {
     "data": {
      "text/plain": [
       "Text(0, 0.5, '$R_{AW}/\\\\rho g \\\\zeta^2_A B^2 L$')"
      ]
     },
     "execution_count": 8,
     "metadata": {},
     "output_type": "execute_result"
    },
    {
     "data": {
      "image/png": "[encoded data removed]",
      "text/plain": [
       "<Figure size 640x480 with 1 Axes>"
      ]
     },
     "metadata": {},
     "output_type": "display_data"
    }
   ],
   "source": [
    "fig,ax = plt.subplots()\n",
    "ax.plot(ldl,4*y_guess.ravel(),'--r',lw=3,label='DNN')\n",
    "ax.scatter(dfa['lwdl'],dfa['KAW'],alpha=0.5,label='OMAE2019-95526')\n",
    "ax.legend(frameon=False)\n",
    "ax.set_xlabel(r'$\\lambda/L$')\n",
    "ax.set_ylabel(r'$R_{AW}/\\rho g \\zeta^2_A B^2 L$')"
   ]
  },
  {
   "cell_type": "code",
   "execution_count": null,
   "id": "7439c818-2fcc-4d0e-bd5f-0ac16720c1c3",
   "metadata": {},
   "outputs": [],
   "source": []
  }
 ],
 "metadata": {
  "kernelspec": {
   "display_name": "Python 3 (ipykernel)",
   "language": "python",
   "name": "python3"
  },
  "language_info": {
   "codemirror_mode": {
    "name": "ipython",
    "version": 3
   },
   "file_extension": ".py",
   "mimetype": "text/x-python",
   "name": "python",
   "nbconvert_exporter": "python",
   "pygments_lexer": "ipython3",
   "version": "3.8.2"
  }
 },
 "nbformat": 4,
 "nbformat_minor": 5
}
